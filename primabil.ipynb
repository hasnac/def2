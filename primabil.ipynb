{
 "cells": [
  {
   "cell_type": "code",
   "execution_count": 1,
   "id": "a64d31fb-8883-43c4-b043-eb7e43c2f963",
   "metadata": {},
   "outputs": [
    {
     "name": "stdin",
     "output_type": "stream",
     "text": [
      "Masukkan angka :  2.1\n"
     ]
    },
    {
     "name": "stdout",
     "output_type": "stream",
     "text": [
      "2.1 adalah bilangan prima\n"
     ]
    }
   ],
   "source": [
    "def bil_prima(bil):\n",
    "    if bil <= 1:\n",
    "        return False\n",
    "    for i in range(2, int(bil)):\n",
    "        if bil % i == 0:\n",
    "            return False\n",
    "    return True\n",
    "bilangan = float(input(\"Masukkan angka : \"))\n",
    "bilangan_int = int(bilangan)\n",
    "if  bil_prima(bilangan):\n",
    "    print(f\"{bilangan} adalah bilangan prima\")\n",
    "else:\n",
    "    print(f\"{bilangan} adalah bukan bilangan prima\")"
   ]
  },
  {
   "cell_type": "code",
   "execution_count": null,
   "id": "f4bdb41b-989d-49e7-bce8-bca0069f8c59",
   "metadata": {},
   "outputs": [],
   "source": []
  },
  {
   "cell_type": "code",
   "execution_count": null,
   "id": "5aeb5550-3f49-4da7-ba6a-9475f9740cc4",
   "metadata": {},
   "outputs": [],
   "source": []
  }
 ],
 "metadata": {
  "kernelspec": {
   "display_name": "Python 3 (ipykernel)",
   "language": "python",
   "name": "python3"
  },
  "language_info": {
   "codemirror_mode": {
    "name": "ipython",
    "version": 3
   },
   "file_extension": ".py",
   "mimetype": "text/x-python",
   "name": "python",
   "nbconvert_exporter": "python",
   "pygments_lexer": "ipython3",
   "version": "3.12.4"
  }
 },
 "nbformat": 4,
 "nbformat_minor": 5
}
