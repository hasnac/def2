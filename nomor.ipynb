{
 "cells": [
  {
   "cell_type": "code",
   "execution_count": 9,
   "id": "4c912517-9df9-4996-abc9-802985085bce",
   "metadata": {},
   "outputs": [
    {
     "name": "stdin",
     "output_type": "stream",
     "text": [
      "Masukkan angka :  1\n"
     ]
    },
    {
     "name": "stdout",
     "output_type": "stream",
     "text": [
      "1 st\n"
     ]
    },
    {
     "name": "stdin",
     "output_type": "stream",
     "text": [
      "Masukkan angka :  2\n"
     ]
    },
    {
     "name": "stdout",
     "output_type": "stream",
     "text": [
      "2 nd\n"
     ]
    },
    {
     "name": "stdin",
     "output_type": "stream",
     "text": [
      "Masukkan angka :  3\n"
     ]
    },
    {
     "name": "stdout",
     "output_type": "stream",
     "text": [
      "3 rd\n"
     ]
    },
    {
     "name": "stdin",
     "output_type": "stream",
     "text": [
      "Masukkan angka :  4\n"
     ]
    },
    {
     "name": "stdout",
     "output_type": "stream",
     "text": [
      "4 th\n"
     ]
    },
    {
     "name": "stdin",
     "output_type": "stream",
     "text": [
      "Masukkan angka :  23\n"
     ]
    },
    {
     "name": "stdout",
     "output_type": "stream",
     "text": [
      "23 rd\n"
     ]
    },
    {
     "name": "stdin",
     "output_type": "stream",
     "text": [
      "Masukkan angka :  21\n"
     ]
    },
    {
     "name": "stdout",
     "output_type": "stream",
     "text": [
      "21 st\n"
     ]
    },
    {
     "name": "stdin",
     "output_type": "stream",
     "text": [
      "Masukkan angka :  0\n"
     ]
    },
    {
     "name": "stdout",
     "output_type": "stream",
     "text": [
      "0 th\n",
      "bye\n"
     ]
    }
   ],
   "source": [
    "def nomor():\n",
    "    while True:\n",
    "        angka = int(input(\"Masukkan angka : \"))\n",
    "        if angka == 0:\n",
    "            print(\"0 th\")\n",
    "            print(\"bye\")\n",
    "            break\n",
    "        if 10<= angka % 100 <=20:\n",
    "            simbol = \"th\"\n",
    "        else:\n",
    "            no_terakhir = angka % 10\n",
    "            if no_terakhir == 1:\n",
    "                simbol = \"st\"\n",
    "            elif no_terakhir == 2:\n",
    "                simbol = \"nd\"\n",
    "            elif no_terakhir == 3:\n",
    "                simbol = \"rd\"\n",
    "            else:\n",
    "                simbol = \"th\"\n",
    "        print(f\"{angka} {simbol}\")\n",
    "nomor()"
   ]
  },
  {
   "cell_type": "code",
   "execution_count": null,
   "id": "d5755955-542b-48e4-86f1-c4476eb27942",
   "metadata": {},
   "outputs": [],
   "source": []
  }
 ],
 "metadata": {
  "kernelspec": {
   "display_name": "Python 3 (ipykernel)",
   "language": "python",
   "name": "python3"
  },
  "language_info": {
   "codemirror_mode": {
    "name": "ipython",
    "version": 3
   },
   "file_extension": ".py",
   "mimetype": "text/x-python",
   "name": "python",
   "nbconvert_exporter": "python",
   "pygments_lexer": "ipython3",
   "version": "3.12.4"
  }
 },
 "nbformat": 4,
 "nbformat_minor": 5
}
